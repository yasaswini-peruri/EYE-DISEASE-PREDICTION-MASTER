{
  "nbformat": 4,
  "nbformat_minor": 0,
  "metadata": {
    "colab": {
      "provenance": []
    },
    "kernelspec": {
      "name": "python3",
      "display_name": "Python 3"
    },
    "language_info": {
      "name": "python"
    }
  },
  "cells": [
    {
      "cell_type": "markdown",
      "source": [
        "Assignment-2"
      ],
      "metadata": {
        "id": "Iyj5rfCwG-N9"
      }
    },
    {
      "cell_type": "markdown",
      "source": [
        "## Task 1: Read the dataset and do data pre-processing\n"
      ],
      "metadata": {
        "id": "DD_BS2BdHFEF"
      }
    },
    {
      "cell_type": "code",
      "execution_count": 52,
      "metadata": {
        "id": "77BG1-kxG3Rn"
      },
      "outputs": [],
      "source": [
        "#importing the libraries\n",
        "import numpy as np\n",
        "import pandas as pd\n",
        "import matplotlib.pyplot as plt\n",
        "import seaborn as sns"
      ]
    },
    {
      "cell_type": "code",
      "source": [
        "#importing the dataset\n",
        "df=pd.read_csv('/content/drug200.csv')\n",
        "df.head()"
      ],
      "metadata": {
        "colab": {
          "base_uri": "https://localhost:8080/",
          "height": 206
        },
        "id": "MoCBuKMFHXYy",
        "outputId": "6e386425-6c77-4b65-a926-3b5735d57728"
      },
      "execution_count": 53,
      "outputs": [
        {
          "output_type": "execute_result",
          "data": {
            "text/plain": [
              "   Age Sex      BP Cholesterol  Na_to_K   Drug\n",
              "0   23   F    HIGH        HIGH   25.355  DrugY\n",
              "1   47   M     LOW        HIGH   13.093  drugC\n",
              "2   47   M     LOW        HIGH   10.114  drugC\n",
              "3   28   F  NORMAL        HIGH    7.798  drugX\n",
              "4   61   F     LOW        HIGH   18.043  DrugY"
            ],
            "text/html": [
              "\n",
              "  <div id=\"df-b1b39de3-1ad8-4867-9792-7112cb09cf3e\">\n",
              "    <div class=\"colab-df-container\">\n",
              "      <div>\n",
              "<style scoped>\n",
              "    .dataframe tbody tr th:only-of-type {\n",
              "        vertical-align: middle;\n",
              "    }\n",
              "\n",
              "    .dataframe tbody tr th {\n",
              "        vertical-align: top;\n",
              "    }\n",
              "\n",
              "    .dataframe thead th {\n",
              "        text-align: right;\n",
              "    }\n",
              "</style>\n",
              "<table border=\"1\" class=\"dataframe\">\n",
              "  <thead>\n",
              "    <tr style=\"text-align: right;\">\n",
              "      <th></th>\n",
              "      <th>Age</th>\n",
              "      <th>Sex</th>\n",
              "      <th>BP</th>\n",
              "      <th>Cholesterol</th>\n",
              "      <th>Na_to_K</th>\n",
              "      <th>Drug</th>\n",
              "    </tr>\n",
              "  </thead>\n",
              "  <tbody>\n",
              "    <tr>\n",
              "      <th>0</th>\n",
              "      <td>23</td>\n",
              "      <td>F</td>\n",
              "      <td>HIGH</td>\n",
              "      <td>HIGH</td>\n",
              "      <td>25.355</td>\n",
              "      <td>DrugY</td>\n",
              "    </tr>\n",
              "    <tr>\n",
              "      <th>1</th>\n",
              "      <td>47</td>\n",
              "      <td>M</td>\n",
              "      <td>LOW</td>\n",
              "      <td>HIGH</td>\n",
              "      <td>13.093</td>\n",
              "      <td>drugC</td>\n",
              "    </tr>\n",
              "    <tr>\n",
              "      <th>2</th>\n",
              "      <td>47</td>\n",
              "      <td>M</td>\n",
              "      <td>LOW</td>\n",
              "      <td>HIGH</td>\n",
              "      <td>10.114</td>\n",
              "      <td>drugC</td>\n",
              "    </tr>\n",
              "    <tr>\n",
              "      <th>3</th>\n",
              "      <td>28</td>\n",
              "      <td>F</td>\n",
              "      <td>NORMAL</td>\n",
              "      <td>HIGH</td>\n",
              "      <td>7.798</td>\n",
              "      <td>drugX</td>\n",
              "    </tr>\n",
              "    <tr>\n",
              "      <th>4</th>\n",
              "      <td>61</td>\n",
              "      <td>F</td>\n",
              "      <td>LOW</td>\n",
              "      <td>HIGH</td>\n",
              "      <td>18.043</td>\n",
              "      <td>DrugY</td>\n",
              "    </tr>\n",
              "  </tbody>\n",
              "</table>\n",
              "</div>\n",
              "      <button class=\"colab-df-convert\" onclick=\"convertToInteractive('df-b1b39de3-1ad8-4867-9792-7112cb09cf3e')\"\n",
              "              title=\"Convert this dataframe to an interactive table.\"\n",
              "              style=\"display:none;\">\n",
              "        \n",
              "  <svg xmlns=\"http://www.w3.org/2000/svg\" height=\"24px\"viewBox=\"0 0 24 24\"\n",
              "       width=\"24px\">\n",
              "    <path d=\"M0 0h24v24H0V0z\" fill=\"none\"/>\n",
              "    <path d=\"M18.56 5.44l.94 2.06.94-2.06 2.06-.94-2.06-.94-.94-2.06-.94 2.06-2.06.94zm-11 1L8.5 8.5l.94-2.06 2.06-.94-2.06-.94L8.5 2.5l-.94 2.06-2.06.94zm10 10l.94 2.06.94-2.06 2.06-.94-2.06-.94-.94-2.06-.94 2.06-2.06.94z\"/><path d=\"M17.41 7.96l-1.37-1.37c-.4-.4-.92-.59-1.43-.59-.52 0-1.04.2-1.43.59L10.3 9.45l-7.72 7.72c-.78.78-.78 2.05 0 2.83L4 21.41c.39.39.9.59 1.41.59.51 0 1.02-.2 1.41-.59l7.78-7.78 2.81-2.81c.8-.78.8-2.07 0-2.86zM5.41 20L4 18.59l7.72-7.72 1.47 1.35L5.41 20z\"/>\n",
              "  </svg>\n",
              "      </button>\n",
              "      \n",
              "  <style>\n",
              "    .colab-df-container {\n",
              "      display:flex;\n",
              "      flex-wrap:wrap;\n",
              "      gap: 12px;\n",
              "    }\n",
              "\n",
              "    .colab-df-convert {\n",
              "      background-color: #E8F0FE;\n",
              "      border: none;\n",
              "      border-radius: 50%;\n",
              "      cursor: pointer;\n",
              "      display: none;\n",
              "      fill: #1967D2;\n",
              "      height: 32px;\n",
              "      padding: 0 0 0 0;\n",
              "      width: 32px;\n",
              "    }\n",
              "\n",
              "    .colab-df-convert:hover {\n",
              "      background-color: #E2EBFA;\n",
              "      box-shadow: 0px 1px 2px rgba(60, 64, 67, 0.3), 0px 1px 3px 1px rgba(60, 64, 67, 0.15);\n",
              "      fill: #174EA6;\n",
              "    }\n",
              "\n",
              "    [theme=dark] .colab-df-convert {\n",
              "      background-color: #3B4455;\n",
              "      fill: #D2E3FC;\n",
              "    }\n",
              "\n",
              "    [theme=dark] .colab-df-convert:hover {\n",
              "      background-color: #434B5C;\n",
              "      box-shadow: 0px 1px 3px 1px rgba(0, 0, 0, 0.15);\n",
              "      filter: drop-shadow(0px 1px 2px rgba(0, 0, 0, 0.3));\n",
              "      fill: #FFFFFF;\n",
              "    }\n",
              "  </style>\n",
              "\n",
              "      <script>\n",
              "        const buttonEl =\n",
              "          document.querySelector('#df-b1b39de3-1ad8-4867-9792-7112cb09cf3e button.colab-df-convert');\n",
              "        buttonEl.style.display =\n",
              "          google.colab.kernel.accessAllowed ? 'block' : 'none';\n",
              "\n",
              "        async function convertToInteractive(key) {\n",
              "          const element = document.querySelector('#df-b1b39de3-1ad8-4867-9792-7112cb09cf3e');\n",
              "          const dataTable =\n",
              "            await google.colab.kernel.invokeFunction('convertToInteractive',\n",
              "                                                     [key], {});\n",
              "          if (!dataTable) return;\n",
              "\n",
              "          const docLinkHtml = 'Like what you see? Visit the ' +\n",
              "            '<a target=\"_blank\" href=https://colab.research.google.com/notebooks/data_table.ipynb>data table notebook</a>'\n",
              "            + ' to learn more about interactive tables.';\n",
              "          element.innerHTML = '';\n",
              "          dataTable['output_type'] = 'display_data';\n",
              "          await google.colab.output.renderOutput(dataTable, element);\n",
              "          const docLink = document.createElement('div');\n",
              "          docLink.innerHTML = docLinkHtml;\n",
              "          element.appendChild(docLink);\n",
              "        }\n",
              "      </script>\n",
              "    </div>\n",
              "  </div>\n",
              "  "
            ]
          },
          "metadata": {},
          "execution_count": 53
        }
      ]
    },
    {
      "cell_type": "code",
      "source": [
        "#Checking for null values\n",
        "df.isnull().sum()"
      ],
      "metadata": {
        "colab": {
          "base_uri": "https://localhost:8080/"
        },
        "id": "g4CZOrxoHXWT",
        "outputId": "368f4e0a-aebf-4928-ea37-2b9167e80e5d"
      },
      "execution_count": 54,
      "outputs": [
        {
          "output_type": "execute_result",
          "data": {
            "text/plain": [
              "Age            0\n",
              "Sex            0\n",
              "BP             0\n",
              "Cholesterol    0\n",
              "Na_to_K        0\n",
              "Drug           0\n",
              "dtype: int64"
            ]
          },
          "metadata": {},
          "execution_count": 54
        }
      ]
    },
    {
      "cell_type": "code",
      "source": [
        "# As there are no null values, skipping the handling null values step"
      ],
      "metadata": {
        "id": "FvSiH9XZprJN"
      },
      "execution_count": 55,
      "outputs": []
    },
    {
      "cell_type": "code",
      "source": [
        "df['Sex'].unique()"
      ],
      "metadata": {
        "colab": {
          "base_uri": "https://localhost:8080/"
        },
        "id": "ya1LBRhwQJH1",
        "outputId": "270b2bae-1c9d-4461-bbf0-dd62a619e3c8"
      },
      "execution_count": 56,
      "outputs": [
        {
          "output_type": "execute_result",
          "data": {
            "text/plain": [
              "array(['F', 'M'], dtype=object)"
            ]
          },
          "metadata": {},
          "execution_count": 56
        }
      ]
    },
    {
      "cell_type": "code",
      "source": [
        "df['BP'].unique()"
      ],
      "metadata": {
        "colab": {
          "base_uri": "https://localhost:8080/"
        },
        "id": "-c0oWX28QLYb",
        "outputId": "a2b041d0-9a20-42b3-871d-b59204e5eebe"
      },
      "execution_count": 57,
      "outputs": [
        {
          "output_type": "execute_result",
          "data": {
            "text/plain": [
              "array(['HIGH', 'LOW', 'NORMAL'], dtype=object)"
            ]
          },
          "metadata": {},
          "execution_count": 57
        }
      ]
    },
    {
      "cell_type": "code",
      "source": [
        "df['Cholesterol'].unique()"
      ],
      "metadata": {
        "colab": {
          "base_uri": "https://localhost:8080/"
        },
        "id": "Ka143IfnQN-O",
        "outputId": "d235454a-bbc3-4eac-c655-f5e12e9b8c44"
      },
      "execution_count": 58,
      "outputs": [
        {
          "output_type": "execute_result",
          "data": {
            "text/plain": [
              "array(['HIGH', 'NORMAL'], dtype=object)"
            ]
          },
          "metadata": {},
          "execution_count": 58
        }
      ]
    },
    {
      "cell_type": "code",
      "source": [
        "df['Drug'].unique()"
      ],
      "metadata": {
        "colab": {
          "base_uri": "https://localhost:8080/"
        },
        "id": "tyYvscPtHXTb",
        "outputId": "5eb852db-515e-47ed-8a02-628b78f1572c"
      },
      "execution_count": 59,
      "outputs": [
        {
          "output_type": "execute_result",
          "data": {
            "text/plain": [
              "array(['DrugY', 'drugC', 'drugX', 'drugA', 'drugB'], dtype=object)"
            ]
          },
          "metadata": {},
          "execution_count": 59
        }
      ]
    },
    {
      "cell_type": "code",
      "source": [
        "df['Drug']=df['Drug'].replace({'DrugY':'drugY'})"
      ],
      "metadata": {
        "id": "F225P3Z9YTy7"
      },
      "execution_count": 60,
      "outputs": []
    },
    {
      "cell_type": "code",
      "source": [
        "df"
      ],
      "metadata": {
        "colab": {
          "base_uri": "https://localhost:8080/",
          "height": 423
        },
        "id": "S8DeAoK8YhTS",
        "outputId": "6d2369f2-8c2a-4864-deb9-e06e246618f3"
      },
      "execution_count": 61,
      "outputs": [
        {
          "output_type": "execute_result",
          "data": {
            "text/plain": [
              "     Age Sex      BP Cholesterol  Na_to_K   Drug\n",
              "0     23   F    HIGH        HIGH   25.355  drugY\n",
              "1     47   M     LOW        HIGH   13.093  drugC\n",
              "2     47   M     LOW        HIGH   10.114  drugC\n",
              "3     28   F  NORMAL        HIGH    7.798  drugX\n",
              "4     61   F     LOW        HIGH   18.043  drugY\n",
              "..   ...  ..     ...         ...      ...    ...\n",
              "195   56   F     LOW        HIGH   11.567  drugC\n",
              "196   16   M     LOW        HIGH   12.006  drugC\n",
              "197   52   M  NORMAL        HIGH    9.894  drugX\n",
              "198   23   M  NORMAL      NORMAL   14.020  drugX\n",
              "199   40   F     LOW      NORMAL   11.349  drugX\n",
              "\n",
              "[200 rows x 6 columns]"
            ],
            "text/html": [
              "\n",
              "  <div id=\"df-34ebd6a4-8b29-46d3-8732-180c1319727c\">\n",
              "    <div class=\"colab-df-container\">\n",
              "      <div>\n",
              "<style scoped>\n",
              "    .dataframe tbody tr th:only-of-type {\n",
              "        vertical-align: middle;\n",
              "    }\n",
              "\n",
              "    .dataframe tbody tr th {\n",
              "        vertical-align: top;\n",
              "    }\n",
              "\n",
              "    .dataframe thead th {\n",
              "        text-align: right;\n",
              "    }\n",
              "</style>\n",
              "<table border=\"1\" class=\"dataframe\">\n",
              "  <thead>\n",
              "    <tr style=\"text-align: right;\">\n",
              "      <th></th>\n",
              "      <th>Age</th>\n",
              "      <th>Sex</th>\n",
              "      <th>BP</th>\n",
              "      <th>Cholesterol</th>\n",
              "      <th>Na_to_K</th>\n",
              "      <th>Drug</th>\n",
              "    </tr>\n",
              "  </thead>\n",
              "  <tbody>\n",
              "    <tr>\n",
              "      <th>0</th>\n",
              "      <td>23</td>\n",
              "      <td>F</td>\n",
              "      <td>HIGH</td>\n",
              "      <td>HIGH</td>\n",
              "      <td>25.355</td>\n",
              "      <td>drugY</td>\n",
              "    </tr>\n",
              "    <tr>\n",
              "      <th>1</th>\n",
              "      <td>47</td>\n",
              "      <td>M</td>\n",
              "      <td>LOW</td>\n",
              "      <td>HIGH</td>\n",
              "      <td>13.093</td>\n",
              "      <td>drugC</td>\n",
              "    </tr>\n",
              "    <tr>\n",
              "      <th>2</th>\n",
              "      <td>47</td>\n",
              "      <td>M</td>\n",
              "      <td>LOW</td>\n",
              "      <td>HIGH</td>\n",
              "      <td>10.114</td>\n",
              "      <td>drugC</td>\n",
              "    </tr>\n",
              "    <tr>\n",
              "      <th>3</th>\n",
              "      <td>28</td>\n",
              "      <td>F</td>\n",
              "      <td>NORMAL</td>\n",
              "      <td>HIGH</td>\n",
              "      <td>7.798</td>\n",
              "      <td>drugX</td>\n",
              "    </tr>\n",
              "    <tr>\n",
              "      <th>4</th>\n",
              "      <td>61</td>\n",
              "      <td>F</td>\n",
              "      <td>LOW</td>\n",
              "      <td>HIGH</td>\n",
              "      <td>18.043</td>\n",
              "      <td>drugY</td>\n",
              "    </tr>\n",
              "    <tr>\n",
              "      <th>...</th>\n",
              "      <td>...</td>\n",
              "      <td>...</td>\n",
              "      <td>...</td>\n",
              "      <td>...</td>\n",
              "      <td>...</td>\n",
              "      <td>...</td>\n",
              "    </tr>\n",
              "    <tr>\n",
              "      <th>195</th>\n",
              "      <td>56</td>\n",
              "      <td>F</td>\n",
              "      <td>LOW</td>\n",
              "      <td>HIGH</td>\n",
              "      <td>11.567</td>\n",
              "      <td>drugC</td>\n",
              "    </tr>\n",
              "    <tr>\n",
              "      <th>196</th>\n",
              "      <td>16</td>\n",
              "      <td>M</td>\n",
              "      <td>LOW</td>\n",
              "      <td>HIGH</td>\n",
              "      <td>12.006</td>\n",
              "      <td>drugC</td>\n",
              "    </tr>\n",
              "    <tr>\n",
              "      <th>197</th>\n",
              "      <td>52</td>\n",
              "      <td>M</td>\n",
              "      <td>NORMAL</td>\n",
              "      <td>HIGH</td>\n",
              "      <td>9.894</td>\n",
              "      <td>drugX</td>\n",
              "    </tr>\n",
              "    <tr>\n",
              "      <th>198</th>\n",
              "      <td>23</td>\n",
              "      <td>M</td>\n",
              "      <td>NORMAL</td>\n",
              "      <td>NORMAL</td>\n",
              "      <td>14.020</td>\n",
              "      <td>drugX</td>\n",
              "    </tr>\n",
              "    <tr>\n",
              "      <th>199</th>\n",
              "      <td>40</td>\n",
              "      <td>F</td>\n",
              "      <td>LOW</td>\n",
              "      <td>NORMAL</td>\n",
              "      <td>11.349</td>\n",
              "      <td>drugX</td>\n",
              "    </tr>\n",
              "  </tbody>\n",
              "</table>\n",
              "<p>200 rows × 6 columns</p>\n",
              "</div>\n",
              "      <button class=\"colab-df-convert\" onclick=\"convertToInteractive('df-34ebd6a4-8b29-46d3-8732-180c1319727c')\"\n",
              "              title=\"Convert this dataframe to an interactive table.\"\n",
              "              style=\"display:none;\">\n",
              "        \n",
              "  <svg xmlns=\"http://www.w3.org/2000/svg\" height=\"24px\"viewBox=\"0 0 24 24\"\n",
              "       width=\"24px\">\n",
              "    <path d=\"M0 0h24v24H0V0z\" fill=\"none\"/>\n",
              "    <path d=\"M18.56 5.44l.94 2.06.94-2.06 2.06-.94-2.06-.94-.94-2.06-.94 2.06-2.06.94zm-11 1L8.5 8.5l.94-2.06 2.06-.94-2.06-.94L8.5 2.5l-.94 2.06-2.06.94zm10 10l.94 2.06.94-2.06 2.06-.94-2.06-.94-.94-2.06-.94 2.06-2.06.94z\"/><path d=\"M17.41 7.96l-1.37-1.37c-.4-.4-.92-.59-1.43-.59-.52 0-1.04.2-1.43.59L10.3 9.45l-7.72 7.72c-.78.78-.78 2.05 0 2.83L4 21.41c.39.39.9.59 1.41.59.51 0 1.02-.2 1.41-.59l7.78-7.78 2.81-2.81c.8-.78.8-2.07 0-2.86zM5.41 20L4 18.59l7.72-7.72 1.47 1.35L5.41 20z\"/>\n",
              "  </svg>\n",
              "      </button>\n",
              "      \n",
              "  <style>\n",
              "    .colab-df-container {\n",
              "      display:flex;\n",
              "      flex-wrap:wrap;\n",
              "      gap: 12px;\n",
              "    }\n",
              "\n",
              "    .colab-df-convert {\n",
              "      background-color: #E8F0FE;\n",
              "      border: none;\n",
              "      border-radius: 50%;\n",
              "      cursor: pointer;\n",
              "      display: none;\n",
              "      fill: #1967D2;\n",
              "      height: 32px;\n",
              "      padding: 0 0 0 0;\n",
              "      width: 32px;\n",
              "    }\n",
              "\n",
              "    .colab-df-convert:hover {\n",
              "      background-color: #E2EBFA;\n",
              "      box-shadow: 0px 1px 2px rgba(60, 64, 67, 0.3), 0px 1px 3px 1px rgba(60, 64, 67, 0.15);\n",
              "      fill: #174EA6;\n",
              "    }\n",
              "\n",
              "    [theme=dark] .colab-df-convert {\n",
              "      background-color: #3B4455;\n",
              "      fill: #D2E3FC;\n",
              "    }\n",
              "\n",
              "    [theme=dark] .colab-df-convert:hover {\n",
              "      background-color: #434B5C;\n",
              "      box-shadow: 0px 1px 3px 1px rgba(0, 0, 0, 0.15);\n",
              "      filter: drop-shadow(0px 1px 2px rgba(0, 0, 0, 0.3));\n",
              "      fill: #FFFFFF;\n",
              "    }\n",
              "  </style>\n",
              "\n",
              "      <script>\n",
              "        const buttonEl =\n",
              "          document.querySelector('#df-34ebd6a4-8b29-46d3-8732-180c1319727c button.colab-df-convert');\n",
              "        buttonEl.style.display =\n",
              "          google.colab.kernel.accessAllowed ? 'block' : 'none';\n",
              "\n",
              "        async function convertToInteractive(key) {\n",
              "          const element = document.querySelector('#df-34ebd6a4-8b29-46d3-8732-180c1319727c');\n",
              "          const dataTable =\n",
              "            await google.colab.kernel.invokeFunction('convertToInteractive',\n",
              "                                                     [key], {});\n",
              "          if (!dataTable) return;\n",
              "\n",
              "          const docLinkHtml = 'Like what you see? Visit the ' +\n",
              "            '<a target=\"_blank\" href=https://colab.research.google.com/notebooks/data_table.ipynb>data table notebook</a>'\n",
              "            + ' to learn more about interactive tables.';\n",
              "          element.innerHTML = '';\n",
              "          dataTable['output_type'] = 'display_data';\n",
              "          await google.colab.output.renderOutput(dataTable, element);\n",
              "          const docLink = document.createElement('div');\n",
              "          docLink.innerHTML = docLinkHtml;\n",
              "          element.appendChild(docLink);\n",
              "        }\n",
              "      </script>\n",
              "    </div>\n",
              "  </div>\n",
              "  "
            ]
          },
          "metadata": {},
          "execution_count": 61
        }
      ]
    },
    {
      "cell_type": "code",
      "source": [
        "df['Drug'].value_counts()"
      ],
      "metadata": {
        "colab": {
          "base_uri": "https://localhost:8080/"
        },
        "id": "WuMGrMjBH31L",
        "outputId": "cbd2c0be-c031-40c7-9fc7-a275b05ae03d"
      },
      "execution_count": 62,
      "outputs": [
        {
          "output_type": "execute_result",
          "data": {
            "text/plain": [
              "drugY    91\n",
              "drugX    54\n",
              "drugA    23\n",
              "drugC    16\n",
              "drugB    16\n",
              "Name: Drug, dtype: int64"
            ]
          },
          "metadata": {},
          "execution_count": 62
        }
      ]
    },
    {
      "cell_type": "code",
      "source": [
        "df.info()"
      ],
      "metadata": {
        "colab": {
          "base_uri": "https://localhost:8080/"
        },
        "id": "mggmE3aoIjMt",
        "outputId": "f5b10db5-9ccd-4c22-a742-9bbefbac4347"
      },
      "execution_count": 63,
      "outputs": [
        {
          "output_type": "stream",
          "name": "stdout",
          "text": [
            "<class 'pandas.core.frame.DataFrame'>\n",
            "RangeIndex: 200 entries, 0 to 199\n",
            "Data columns (total 6 columns):\n",
            " #   Column       Non-Null Count  Dtype  \n",
            "---  ------       --------------  -----  \n",
            " 0   Age          200 non-null    int64  \n",
            " 1   Sex          200 non-null    object \n",
            " 2   BP           200 non-null    object \n",
            " 3   Cholesterol  200 non-null    object \n",
            " 4   Na_to_K      200 non-null    float64\n",
            " 5   Drug         200 non-null    object \n",
            "dtypes: float64(1), int64(1), object(4)\n",
            "memory usage: 9.5+ KB\n"
          ]
        }
      ]
    },
    {
      "cell_type": "code",
      "source": [
        "#Checking for outliers\n",
        "sns.boxplot(df)"
      ],
      "metadata": {
        "colab": {
          "base_uri": "https://localhost:8080/",
          "height": 448
        },
        "id": "UW2Y2gRNpzYa",
        "outputId": "e89b5024-9769-43dc-a565-15e7355789db"
      },
      "execution_count": 64,
      "outputs": [
        {
          "output_type": "execute_result",
          "data": {
            "text/plain": [
              "<Axes: >"
            ]
          },
          "metadata": {},
          "execution_count": 64
        },
        {
          "output_type": "display_data",
          "data": {
            "text/plain": [
              "<Figure size 640x480 with 1 Axes>"
            ],
            "image/png": "[encoded data removed]"
          },
          "metadata": {}
        }
      ]
    },
    {
      "cell_type": "code",
      "source": [
        "#Na_to_K has outliers"
      ],
      "metadata": {
        "id": "59oo3T-Cp4or"
      },
      "execution_count": 65,
      "outputs": []
    },
    {
      "cell_type": "code",
      "source": [
        "#Using IQR method to remove outliers\n",
        "Q1=df.Na_to_K.quantile(0.25)\n",
        "print('Q1 =',Q1)\n",
        "Q3=df.Na_to_K.quantile(0.75)\n",
        "print('Q3 =',Q3)\n",
        "IQR=Q3-Q1\n",
        "print('IQR =',IQR)\n",
        "upperlimit=Q3+1.5*IQR\n",
        "print('upperlimit =',upperlimit)\n",
        "lowerlimit=Q1-1.5*IQR\n",
        "print('lowerlimit =',lowerlimit)"
      ],
      "metadata": {
        "colab": {
          "base_uri": "https://localhost:8080/"
        },
        "id": "veTu_wqTp8Qz",
        "outputId": "51a443fe-4020-4b08-a5c1-77e014b0384d"
      },
      "execution_count": 66,
      "outputs": [
        {
          "output_type": "stream",
          "name": "stdout",
          "text": [
            "Q1 = 10.4455\n",
            "Q3 = 19.38\n",
            "IQR = 8.9345\n",
            "upperlimit = 32.78175\n",
            "lowerlimit = -2.9562500000000007\n"
          ]
        }
      ]
    },
    {
      "cell_type": "code",
      "source": [
        "df.median()"
      ],
      "metadata": {
        "colab": {
          "base_uri": "https://localhost:8080/"
        },
        "id": "Bly8hoKUrEog",
        "outputId": "e0e99928-6b62-4ad6-d832-222a7bcda985"
      },
      "execution_count": 67,
      "outputs": [
        {
          "output_type": "stream",
          "name": "stderr",
          "text": [
            "<ipython-input-67-6d467abf240d>:1: FutureWarning: The default value of numeric_only in DataFrame.median is deprecated. In a future version, it will default to False. In addition, specifying 'numeric_only=None' is deprecated. Select only valid columns or specify the value of numeric_only to silence this warning.\n",
            "  df.median()\n"
          ]
        },
        {
          "output_type": "execute_result",
          "data": {
            "text/plain": [
              "Age        45.0000\n",
              "Na_to_K    13.9365\n",
              "dtype: float64"
            ]
          },
          "metadata": {},
          "execution_count": 67
        }
      ]
    },
    {
      "cell_type": "code",
      "source": [
        "#Replacing outlier with median\n",
        "\n",
        "df['Na_to_K']=np.where(df['Na_to_K']>upperlimit,13.93,df['Na_to_K'])"
      ],
      "metadata": {
        "id": "3ftcnfKLrGuW"
      },
      "execution_count": 68,
      "outputs": []
    },
    {
      "cell_type": "code",
      "source": [
        "#Checking outliers\n",
        "sns.boxplot(df['Na_to_K'])"
      ],
      "metadata": {
        "colab": {
          "base_uri": "https://localhost:8080/",
          "height": 448
        },
        "id": "-A59Z_tZr0Je",
        "outputId": "541f2c08-3e18-4abe-9ca1-88a980064836"
      },
      "execution_count": 69,
      "outputs": [
        {
          "output_type": "execute_result",
          "data": {
            "text/plain": [
              "<Axes: >"
            ]
          },
          "metadata": {},
          "execution_count": 69
        },
        {
          "output_type": "display_data",
          "data": {
            "text/plain": [
              "<Figure size 640x480 with 1 Axes>"
            ],
            "image/png": "[encoded data removed]"
          },
          "metadata": {}
        }
      ]
    },
    {
      "cell_type": "markdown",
      "source": [
        "**Encoding**"
      ],
      "metadata": {
        "id": "pholThgyK3AW"
      }
    },
    {
      "cell_type": "code",
      "source": [
        "from sklearn.preprocessing import LabelEncoder\n",
        "\n",
        "le = LabelEncoder()\n",
        "le1= LabelEncoder()\n"
      ],
      "metadata": {
        "id": "xFo5lx3pP-Fr"
      },
      "execution_count": 70,
      "outputs": []
    },
    {
      "cell_type": "code",
      "source": [
        "#Encoding Sex column using label encoding\n",
        "df['Sex']=le.fit_transform(df['Sex'])\n",
        "df['Sex']"
      ],
      "metadata": {
        "colab": {
          "base_uri": "https://localhost:8080/"
        },
        "id": "ymvQkfhYKwz7",
        "outputId": "b68536c1-5ba4-48a2-f9d1-af84c9dbba8d"
      },
      "execution_count": 71,
      "outputs": [
        {
          "output_type": "execute_result",
          "data": {
            "text/plain": [
              "0      0\n",
              "1      1\n",
              "2      1\n",
              "3      0\n",
              "4      0\n",
              "      ..\n",
              "195    0\n",
              "196    1\n",
              "197    1\n",
              "198    1\n",
              "199    0\n",
              "Name: Sex, Length: 200, dtype: int64"
            ]
          },
          "metadata": {},
          "execution_count": 71
        }
      ]
    },
    {
      "cell_type": "code",
      "source": [
        "#Performing manual encoding on BP column\n",
        "\n",
        "df['BP']=df['BP'].replace({'HIGH':2,'LOW':0,'NORMAL':1})\n",
        "df['BP']\n"
      ],
      "metadata": {
        "colab": {
          "base_uri": "https://localhost:8080/"
        },
        "id": "8UcIrb2dQnkK",
        "outputId": "7c5599b7-d0a5-434e-848f-680bad299ca2"
      },
      "execution_count": 72,
      "outputs": [
        {
          "output_type": "execute_result",
          "data": {
            "text/plain": [
              "0      2\n",
              "1      0\n",
              "2      0\n",
              "3      1\n",
              "4      0\n",
              "      ..\n",
              "195    0\n",
              "196    0\n",
              "197    1\n",
              "198    1\n",
              "199    0\n",
              "Name: BP, Length: 200, dtype: int64"
            ]
          },
          "metadata": {},
          "execution_count": 72
        }
      ]
    },
    {
      "cell_type": "code",
      "source": [
        "#Performing manual encoding on Cholestrol column\n",
        "\n",
        "df['Cholesterol']=df['Cholesterol'].replace({'HIGH':1,'NORMAL':0})\n",
        "df['Cholesterol']"
      ],
      "metadata": {
        "colab": {
          "base_uri": "https://localhost:8080/"
        },
        "id": "URZ3Af2VX1yR",
        "outputId": "f26b4ccf-3179-46fd-b450-79d9b7d0a126"
      },
      "execution_count": 73,
      "outputs": [
        {
          "output_type": "execute_result",
          "data": {
            "text/plain": [
              "0      1\n",
              "1      1\n",
              "2      1\n",
              "3      1\n",
              "4      1\n",
              "      ..\n",
              "195    1\n",
              "196    1\n",
              "197    1\n",
              "198    0\n",
              "199    0\n",
              "Name: Cholesterol, Length: 200, dtype: int64"
            ]
          },
          "metadata": {},
          "execution_count": 73
        }
      ]
    },
    {
      "cell_type": "code",
      "source": [
        "#Encoding Drug column using label encoding\n",
        "df['Drug']=le1.fit_transform(df['Drug'])\n",
        "print(df['Drug'])\n"
      ],
      "metadata": {
        "colab": {
          "base_uri": "https://localhost:8080/"
        },
        "id": "Rp0KK0VO8w9s",
        "outputId": "ef9b5b1e-744c-4cde-dbab-4867f2d42215"
      },
      "execution_count": 74,
      "outputs": [
        {
          "output_type": "stream",
          "name": "stdout",
          "text": [
            "0      4\n",
            "1      2\n",
            "2      2\n",
            "3      3\n",
            "4      4\n",
            "      ..\n",
            "195    2\n",
            "196    2\n",
            "197    3\n",
            "198    3\n",
            "199    3\n",
            "Name: Drug, Length: 200, dtype: int64\n"
          ]
        }
      ]
    },
    {
      "cell_type": "code",
      "source": [
        "le1.inverse_transform([0])"
      ],
      "metadata": {
        "colab": {
          "base_uri": "https://localhost:8080/"
        },
        "id": "PwG1B5KHZvwB",
        "outputId": "d8ebb7fe-d19f-4d27-dca1-3728312263aa"
      },
      "execution_count": 78,
      "outputs": [
        {
          "output_type": "execute_result",
          "data": {
            "text/plain": [
              "array(['drugA'], dtype=object)"
            ]
          },
          "metadata": {},
          "execution_count": 78
        }
      ]
    },
    {
      "cell_type": "code",
      "source": [
        "le1.inverse_transform([1])"
      ],
      "metadata": {
        "colab": {
          "base_uri": "https://localhost:8080/"
        },
        "id": "4rWeOrv_Zvnr",
        "outputId": "126788f7-019a-4c83-a1ca-bfeb3c5b7870"
      },
      "execution_count": 79,
      "outputs": [
        {
          "output_type": "execute_result",
          "data": {
            "text/plain": [
              "array(['drugB'], dtype=object)"
            ]
          },
          "metadata": {},
          "execution_count": 79
        }
      ]
    },
    {
      "cell_type": "code",
      "source": [
        "le1.inverse_transform([2])"
      ],
      "metadata": {
        "colab": {
          "base_uri": "https://localhost:8080/"
        },
        "id": "ZICW0BzdZZTv",
        "outputId": "fb6c0493-4b8a-450b-af54-fdfa49cc731d"
      },
      "execution_count": 75,
      "outputs": [
        {
          "output_type": "execute_result",
          "data": {
            "text/plain": [
              "array(['drugC'], dtype=object)"
            ]
          },
          "metadata": {},
          "execution_count": 75
        }
      ]
    },
    {
      "cell_type": "code",
      "source": [
        "le1.inverse_transform([3])"
      ],
      "metadata": {
        "colab": {
          "base_uri": "https://localhost:8080/"
        },
        "id": "s5KhnhwtZra1",
        "outputId": "92a460b4-b05f-47a2-e98e-5089a27f32d7"
      },
      "execution_count": 76,
      "outputs": [
        {
          "output_type": "execute_result",
          "data": {
            "text/plain": [
              "array(['drugX'], dtype=object)"
            ]
          },
          "metadata": {},
          "execution_count": 76
        }
      ]
    },
    {
      "cell_type": "code",
      "source": [
        "le1.inverse_transform([4])"
      ],
      "metadata": {
        "colab": {
          "base_uri": "https://localhost:8080/"
        },
        "id": "u4782ftGZtjo",
        "outputId": "8a698036-3809-4a49-a794-b09cfa5e7f7f"
      },
      "execution_count": 80,
      "outputs": [
        {
          "output_type": "execute_result",
          "data": {
            "text/plain": [
              "array(['drugY'], dtype=object)"
            ]
          },
          "metadata": {},
          "execution_count": 80
        }
      ]
    },
    {
      "cell_type": "code",
      "source": [
        "x = (df.iloc[:,0:5])\n",
        "x"
      ],
      "metadata": {
        "colab": {
          "base_uri": "https://localhost:8080/",
          "height": 423
        },
        "id": "FcUPP3y7SNtM",
        "outputId": "b7ac42fc-76a0-46ba-c379-9034e4552859"
      },
      "execution_count": 81,
      "outputs": [
        {
          "output_type": "execute_result",
          "data": {
            "text/plain": [
              "     Age  Sex  BP  Cholesterol  Na_to_K\n",
              "0     23    0   2            1   25.355\n",
              "1     47    1   0            1   13.093\n",
              "2     47    1   0            1   10.114\n",
              "3     28    0   1            1    7.798\n",
              "4     61    0   0            1   18.043\n",
              "..   ...  ...  ..          ...      ...\n",
              "195   56    0   0            1   11.567\n",
              "196   16    1   0            1   12.006\n",
              "197   52    1   1            1    9.894\n",
              "198   23    1   1            0   14.020\n",
              "199   40    0   0            0   11.349\n",
              "\n",
              "[200 rows x 5 columns]"
            ],
            "text/html": [
              "\n",
              "  <div id=\"df-5802dd75-10ec-42b5-9dd5-a190fae9d7a8\">\n",
              "    <div class=\"colab-df-container\">\n",
              "      <div>\n",
              "<style scoped>\n",
              "    .dataframe tbody tr th:only-of-type {\n",
              "        vertical-align: middle;\n",
              "    }\n",
              "\n",
              "    .dataframe tbody tr th {\n",
              "        vertical-align: top;\n",
              "    }\n",
              "\n",
              "    .dataframe thead th {\n",
              "        text-align: right;\n",
              "    }\n",
              "</style>\n",
              "<table border=\"1\" class=\"dataframe\">\n",
              "  <thead>\n",
              "    <tr style=\"text-align: right;\">\n",
              "      <th></th>\n",
              "      <th>Age</th>\n",
              "      <th>Sex</th>\n",
              "      <th>BP</th>\n",
              "      <th>Cholesterol</th>\n",
              "      <th>Na_to_K</th>\n",
              "    </tr>\n",
              "  </thead>\n",
              "  <tbody>\n",
              "    <tr>\n",
              "      <th>0</th>\n",
              "      <td>23</td>\n",
              "      <td>0</td>\n",
              "      <td>2</td>\n",
              "      <td>1</td>\n",
              "      <td>25.355</td>\n",
              "    </tr>\n",
              "    <tr>\n",
              "      <th>1</th>\n",
              "      <td>47</td>\n",
              "      <td>1</td>\n",
              "      <td>0</td>\n",
              "      <td>1</td>\n",
              "      <td>13.093</td>\n",
              "    </tr>\n",
              "    <tr>\n",
              "      <th>2</th>\n",
              "      <td>47</td>\n",
              "      <td>1</td>\n",
              "      <td>0</td>\n",
              "      <td>1</td>\n",
              "      <td>10.114</td>\n",
              "    </tr>\n",
              "    <tr>\n",
              "      <th>3</th>\n",
              "      <td>28</td>\n",
              "      <td>0</td>\n",
              "      <td>1</td>\n",
              "      <td>1</td>\n",
              "      <td>7.798</td>\n",
              "    </tr>\n",
              "    <tr>\n",
              "      <th>4</th>\n",
              "      <td>61</td>\n",
              "      <td>0</td>\n",
              "      <td>0</td>\n",
              "      <td>1</td>\n",
              "      <td>18.043</td>\n",
              "    </tr>\n",
              "    <tr>\n",
              "      <th>...</th>\n",
              "      <td>...</td>\n",
              "      <td>...</td>\n",
              "      <td>...</td>\n",
              "      <td>...</td>\n",
              "      <td>...</td>\n",
              "    </tr>\n",
              "    <tr>\n",
              "      <th>195</th>\n",
              "      <td>56</td>\n",
              "      <td>0</td>\n",
              "      <td>0</td>\n",
              "      <td>1</td>\n",
              "      <td>11.567</td>\n",
              "    </tr>\n",
              "    <tr>\n",
              "      <th>196</th>\n",
              "      <td>16</td>\n",
              "      <td>1</td>\n",
              "      <td>0</td>\n",
              "      <td>1</td>\n",
              "      <td>12.006</td>\n",
              "    </tr>\n",
              "    <tr>\n",
              "      <th>197</th>\n",
              "      <td>52</td>\n",
              "      <td>1</td>\n",
              "      <td>1</td>\n",
              "      <td>1</td>\n",
              "      <td>9.894</td>\n",
              "    </tr>\n",
              "    <tr>\n",
              "      <th>198</th>\n",
              "      <td>23</td>\n",
              "      <td>1</td>\n",
              "      <td>1</td>\n",
              "      <td>0</td>\n",
              "      <td>14.020</td>\n",
              "    </tr>\n",
              "    <tr>\n",
              "      <th>199</th>\n",
              "      <td>40</td>\n",
              "      <td>0</td>\n",
              "      <td>0</td>\n",
              "      <td>0</td>\n",
              "      <td>11.349</td>\n",
              "    </tr>\n",
              "  </tbody>\n",
              "</table>\n",
              "<p>200 rows × 5 columns</p>\n",
              "</div>\n",
              "      <button class=\"colab-df-convert\" onclick=\"convertToInteractive('df-5802dd75-10ec-42b5-9dd5-a190fae9d7a8')\"\n",
              "              title=\"Convert this dataframe to an interactive table.\"\n",
              "              style=\"display:none;\">\n",
              "        \n",
              "  <svg xmlns=\"http://www.w3.org/2000/svg\" height=\"24px\"viewBox=\"0 0 24 24\"\n",
              "       width=\"24px\">\n",
              "    <path d=\"M0 0h24v24H0V0z\" fill=\"none\"/>\n",
              "    <path d=\"M18.56 5.44l.94 2.06.94-2.06 2.06-.94-2.06-.94-.94-2.06-.94 2.06-2.06.94zm-11 1L8.5 8.5l.94-2.06 2.06-.94-2.06-.94L8.5 2.5l-.94 2.06-2.06.94zm10 10l.94 2.06.94-2.06 2.06-.94-2.06-.94-.94-2.06-.94 2.06-2.06.94z\"/><path d=\"M17.41 7.96l-1.37-1.37c-.4-.4-.92-.59-1.43-.59-.52 0-1.04.2-1.43.59L10.3 9.45l-7.72 7.72c-.78.78-.78 2.05 0 2.83L4 21.41c.39.39.9.59 1.41.59.51 0 1.02-.2 1.41-.59l7.78-7.78 2.81-2.81c.8-.78.8-2.07 0-2.86zM5.41 20L4 18.59l7.72-7.72 1.47 1.35L5.41 20z\"/>\n",
              "  </svg>\n",
              "      </button>\n",
              "      \n",
              "  <style>\n",
              "    .colab-df-container {\n",
              "      display:flex;\n",
              "      flex-wrap:wrap;\n",
              "      gap: 12px;\n",
              "    }\n",
              "\n",
              "    .colab-df-convert {\n",
              "      background-color: #E8F0FE;\n",
              "      border: none;\n",
              "      border-radius: 50%;\n",
              "      cursor: pointer;\n",
              "      display: none;\n",
              "      fill: #1967D2;\n",
              "      height: 32px;\n",
              "      padding: 0 0 0 0;\n",
              "      width: 32px;\n",
              "    }\n",
              "\n",
              "    .colab-df-convert:hover {\n",
              "      background-color: #E2EBFA;\n",
              "      box-shadow: 0px 1px 2px rgba(60, 64, 67, 0.3), 0px 1px 3px 1px rgba(60, 64, 67, 0.15);\n",
              "      fill: #174EA6;\n",
              "    }\n",
              "\n",
              "    [theme=dark] .colab-df-convert {\n",
              "      background-color: #3B4455;\n",
              "      fill: #D2E3FC;\n",
              "    }\n",
              "\n",
              "    [theme=dark] .colab-df-convert:hover {\n",
              "      background-color: #434B5C;\n",
              "      box-shadow: 0px 1px 3px 1px rgba(0, 0, 0, 0.15);\n",
              "      filter: drop-shadow(0px 1px 2px rgba(0, 0, 0, 0.3));\n",
              "      fill: #FFFFFF;\n",
              "    }\n",
              "  </style>\n",
              "\n",
              "      <script>\n",
              "        const buttonEl =\n",
              "          document.querySelector('#df-5802dd75-10ec-42b5-9dd5-a190fae9d7a8 button.colab-df-convert');\n",
              "        buttonEl.style.display =\n",
              "          google.colab.kernel.accessAllowed ? 'block' : 'none';\n",
              "\n",
              "        async function convertToInteractive(key) {\n",
              "          const element = document.querySelector('#df-5802dd75-10ec-42b5-9dd5-a190fae9d7a8');\n",
              "          const dataTable =\n",
              "            await google.colab.kernel.invokeFunction('convertToInteractive',\n",
              "                                                     [key], {});\n",
              "          if (!dataTable) return;\n",
              "\n",
              "          const docLinkHtml = 'Like what you see? Visit the ' +\n",
              "            '<a target=\"_blank\" href=https://colab.research.google.com/notebooks/data_table.ipynb>data table notebook</a>'\n",
              "            + ' to learn more about interactive tables.';\n",
              "          element.innerHTML = '';\n",
              "          dataTable['output_type'] = 'display_data';\n",
              "          await google.colab.output.renderOutput(dataTable, element);\n",
              "          const docLink = document.createElement('div');\n",
              "          docLink.innerHTML = docLinkHtml;\n",
              "          element.appendChild(docLink);\n",
              "        }\n",
              "      </script>\n",
              "    </div>\n",
              "  </div>\n",
              "  "
            ]
          },
          "metadata": {},
          "execution_count": 81
        }
      ]
    },
    {
      "cell_type": "code",
      "source": [
        "y = (df.iloc[:,5:])\n",
        "y  \n"
      ],
      "metadata": {
        "colab": {
          "base_uri": "https://localhost:8080/",
          "height": 423
        },
        "id": "imar7fS7LQPK",
        "outputId": "c0f251f5-641a-4399-9819-ce440750c4b6"
      },
      "execution_count": 82,
      "outputs": [
        {
          "output_type": "execute_result",
          "data": {
            "text/plain": [
              "     Drug\n",
              "0       4\n",
              "1       2\n",
              "2       2\n",
              "3       3\n",
              "4       4\n",
              "..    ...\n",
              "195     2\n",
              "196     2\n",
              "197     3\n",
              "198     3\n",
              "199     3\n",
              "\n",
              "[200 rows x 1 columns]"
            ],
            "text/html": [
              "\n",
              "  <div id=\"df-bfe6305a-6884-48c4-b662-85a3c9f88c12\">\n",
              "    <div class=\"colab-df-container\">\n",
              "      <div>\n",
              "<style scoped>\n",
              "    .dataframe tbody tr th:only-of-type {\n",
              "        vertical-align: middle;\n",
              "    }\n",
              "\n",
              "    .dataframe tbody tr th {\n",
              "        vertical-align: top;\n",
              "    }\n",
              "\n",
              "    .dataframe thead th {\n",
              "        text-align: right;\n",
              "    }\n",
              "</style>\n",
              "<table border=\"1\" class=\"dataframe\">\n",
              "  <thead>\n",
              "    <tr style=\"text-align: right;\">\n",
              "      <th></th>\n",
              "      <th>Drug</th>\n",
              "    </tr>\n",
              "  </thead>\n",
              "  <tbody>\n",
              "    <tr>\n",
              "      <th>0</th>\n",
              "      <td>4</td>\n",
              "    </tr>\n",
              "    <tr>\n",
              "      <th>1</th>\n",
              "      <td>2</td>\n",
              "    </tr>\n",
              "    <tr>\n",
              "      <th>2</th>\n",
              "      <td>2</td>\n",
              "    </tr>\n",
              "    <tr>\n",
              "      <th>3</th>\n",
              "      <td>3</td>\n",
              "    </tr>\n",
              "    <tr>\n",
              "      <th>4</th>\n",
              "      <td>4</td>\n",
              "    </tr>\n",
              "    <tr>\n",
              "      <th>...</th>\n",
              "      <td>...</td>\n",
              "    </tr>\n",
              "    <tr>\n",
              "      <th>195</th>\n",
              "      <td>2</td>\n",
              "    </tr>\n",
              "    <tr>\n",
              "      <th>196</th>\n",
              "      <td>2</td>\n",
              "    </tr>\n",
              "    <tr>\n",
              "      <th>197</th>\n",
              "      <td>3</td>\n",
              "    </tr>\n",
              "    <tr>\n",
              "      <th>198</th>\n",
              "      <td>3</td>\n",
              "    </tr>\n",
              "    <tr>\n",
              "      <th>199</th>\n",
              "      <td>3</td>\n",
              "    </tr>\n",
              "  </tbody>\n",
              "</table>\n",
              "<p>200 rows × 1 columns</p>\n",
              "</div>\n",
              "      <button class=\"colab-df-convert\" onclick=\"convertToInteractive('df-bfe6305a-6884-48c4-b662-85a3c9f88c12')\"\n",
              "              title=\"Convert this dataframe to an interactive table.\"\n",
              "              style=\"display:none;\">\n",
              "        \n",
              "  <svg xmlns=\"http://www.w3.org/2000/svg\" height=\"24px\"viewBox=\"0 0 24 24\"\n",
              "       width=\"24px\">\n",
              "    <path d=\"M0 0h24v24H0V0z\" fill=\"none\"/>\n",
              "    <path d=\"M18.56 5.44l.94 2.06.94-2.06 2.06-.94-2.06-.94-.94-2.06-.94 2.06-2.06.94zm-11 1L8.5 8.5l.94-2.06 2.06-.94-2.06-.94L8.5 2.5l-.94 2.06-2.06.94zm10 10l.94 2.06.94-2.06 2.06-.94-2.06-.94-.94-2.06-.94 2.06-2.06.94z\"/><path d=\"M17.41 7.96l-1.37-1.37c-.4-.4-.92-.59-1.43-.59-.52 0-1.04.2-1.43.59L10.3 9.45l-7.72 7.72c-.78.78-.78 2.05 0 2.83L4 21.41c.39.39.9.59 1.41.59.51 0 1.02-.2 1.41-.59l7.78-7.78 2.81-2.81c.8-.78.8-2.07 0-2.86zM5.41 20L4 18.59l7.72-7.72 1.47 1.35L5.41 20z\"/>\n",
              "  </svg>\n",
              "      </button>\n",
              "      \n",
              "  <style>\n",
              "    .colab-df-container {\n",
              "      display:flex;\n",
              "      flex-wrap:wrap;\n",
              "      gap: 12px;\n",
              "    }\n",
              "\n",
              "    .colab-df-convert {\n",
              "      background-color: #E8F0FE;\n",
              "      border: none;\n",
              "      border-radius: 50%;\n",
              "      cursor: pointer;\n",
              "      display: none;\n",
              "      fill: #1967D2;\n",
              "      height: 32px;\n",
              "      padding: 0 0 0 0;\n",
              "      width: 32px;\n",
              "    }\n",
              "\n",
              "    .colab-df-convert:hover {\n",
              "      background-color: #E2EBFA;\n",
              "      box-shadow: 0px 1px 2px rgba(60, 64, 67, 0.3), 0px 1px 3px 1px rgba(60, 64, 67, 0.15);\n",
              "      fill: #174EA6;\n",
              "    }\n",
              "\n",
              "    [theme=dark] .colab-df-convert {\n",
              "      background-color: #3B4455;\n",
              "      fill: #D2E3FC;\n",
              "    }\n",
              "\n",
              "    [theme=dark] .colab-df-convert:hover {\n",
              "      background-color: #434B5C;\n",
              "      box-shadow: 0px 1px 3px 1px rgba(0, 0, 0, 0.15);\n",
              "      filter: drop-shadow(0px 1px 2px rgba(0, 0, 0, 0.3));\n",
              "      fill: #FFFFFF;\n",
              "    }\n",
              "  </style>\n",
              "\n",
              "      <script>\n",
              "        const buttonEl =\n",
              "          document.querySelector('#df-bfe6305a-6884-48c4-b662-85a3c9f88c12 button.colab-df-convert');\n",
              "        buttonEl.style.display =\n",
              "          google.colab.kernel.accessAllowed ? 'block' : 'none';\n",
              "\n",
              "        async function convertToInteractive(key) {\n",
              "          const element = document.querySelector('#df-bfe6305a-6884-48c4-b662-85a3c9f88c12');\n",
              "          const dataTable =\n",
              "            await google.colab.kernel.invokeFunction('convertToInteractive',\n",
              "                                                     [key], {});\n",
              "          if (!dataTable) return;\n",
              "\n",
              "          const docLinkHtml = 'Like what you see? Visit the ' +\n",
              "            '<a target=\"_blank\" href=https://colab.research.google.com/notebooks/data_table.ipynb>data table notebook</a>'\n",
              "            + ' to learn more about interactive tables.';\n",
              "          element.innerHTML = '';\n",
              "          dataTable['output_type'] = 'display_data';\n",
              "          await google.colab.output.renderOutput(dataTable, element);\n",
              "          const docLink = document.createElement('div');\n",
              "          docLink.innerHTML = docLinkHtml;\n",
              "          element.appendChild(docLink);\n",
              "        }\n",
              "      </script>\n",
              "    </div>\n",
              "  </div>\n",
              "  "
            ]
          },
          "metadata": {},
          "execution_count": 82
        }
      ]
    },
    {
      "cell_type": "markdown",
      "source": [
        "**Splitting** **the** **data**"
      ],
      "metadata": {
        "id": "HJ6LudaWKyVD"
      }
    },
    {
      "cell_type": "code",
      "source": [
        "from sklearn.model_selection import train_test_split"
      ],
      "metadata": {
        "id": "Z7LRoe54IWOT"
      },
      "execution_count": 83,
      "outputs": []
    },
    {
      "cell_type": "code",
      "source": [
        "xtrain,xtest,ytrain,ytest=train_test_split(x,y,test_size=0.2,random_state=20)"
      ],
      "metadata": {
        "id": "bMrB4s-6J9ky"
      },
      "execution_count": 84,
      "outputs": []
    },
    {
      "cell_type": "code",
      "source": [
        "x.shape,y.shape,xtrain.shape,xtest.shape,ytrain.shape,ytest.shape"
      ],
      "metadata": {
        "colab": {
          "base_uri": "https://localhost:8080/"
        },
        "id": "nh_u32pyJ9iO",
        "outputId": "6e82b106-3089-420f-905e-b6aaa89f97c1"
      },
      "execution_count": 85,
      "outputs": [
        {
          "output_type": "execute_result",
          "data": {
            "text/plain": [
              "((200, 5), (200, 1), (160, 5), (40, 5), (160, 1), (40, 1))"
            ]
          },
          "metadata": {},
          "execution_count": 85
        }
      ]
    },
    {
      "cell_type": "markdown",
      "source": [
        "## Task 2: Build the ANN model with (input layer, min 3 hidden layers & output layer)"
      ],
      "metadata": {
        "id": "w2l-WnmfLx_z"
      }
    },
    {
      "cell_type": "code",
      "source": [
        "from tensorflow.keras.models import Sequential\n",
        "from tensorflow.keras.layers import Dense\n",
        "\n",
        "model=Sequential()\n",
        "model.add(Dense(5,activation='relu'))\n",
        "model.add(Dense(32,activation='relu'))\n",
        "model.add(Dense(26,activation='relu'))\n",
        "model.add(Dense(32,activation='relu'))\n",
        "model.add(Dense(18,activation='relu'))\n",
        "model.add(Dense(26,activation='relu'))\n",
        "model.add(Dense(5,activation='softmax'))"
      ],
      "metadata": {
        "id": "xcaWYwr3LwYz"
      },
      "execution_count": 86,
      "outputs": []
    },
    {
      "cell_type": "code",
      "source": [
        "model.compile(optimizer='adam',loss='sparse_categorical_crossentropy',metrics=['accuracy'])"
      ],
      "metadata": {
        "id": "Vq9FlQqIMmHp"
      },
      "execution_count": 87,
      "outputs": []
    },
    {
      "cell_type": "code",
      "source": [
        "model.fit(xtrain,ytrain,epochs=70,batch_size=4,validation_data=(xtest,ytest))"
      ],
      "metadata": {
        "colab": {
          "base_uri": "https://localhost:8080/"
        },
        "id": "gij9w74gMmFM",
        "outputId": "2b9448ea-d059-4d13-e603-62a7e0bbe822"
      },
      "execution_count": 91,
      "outputs": [
        {
          "output_type": "stream",
          "name": "stdout",
          "text": [
            "Epoch 1/70\n",
            "40/40 [==============================] - 0s 5ms/step - loss: 0.2468 - accuracy: 0.9125 - val_loss: 0.5847 - val_accuracy: 0.7750\n",
            "Epoch 2/70\n",
            "40/40 [==============================] - 0s 3ms/step - loss: 0.2612 - accuracy: 0.8938 - val_loss: 0.4096 - val_accuracy: 0.8000\n",
            "Epoch 3/70\n",
            "40/40 [==============================] - 0s 3ms/step - loss: 0.2691 - accuracy: 0.8875 - val_loss: 0.4099 - val_accuracy: 0.8000\n",
            "Epoch 4/70\n",
            "40/40 [==============================] - 0s 3ms/step - loss: 0.2377 - accuracy: 0.9000 - val_loss: 0.6936 - val_accuracy: 0.6000\n",
            "Epoch 5/70\n",
            "40/40 [==============================] - 0s 3ms/step - loss: 0.2916 - accuracy: 0.8750 - val_loss: 0.5346 - val_accuracy: 0.7250\n",
            "Epoch 6/70\n",
            "40/40 [==============================] - 0s 3ms/step - loss: 0.3259 - accuracy: 0.8687 - val_loss: 0.5312 - val_accuracy: 0.7000\n",
            "Epoch 7/70\n",
            "40/40 [==============================] - 0s 4ms/step - loss: 0.2826 - accuracy: 0.8438 - val_loss: 0.5046 - val_accuracy: 0.7250\n",
            "Epoch 8/70\n",
            "40/40 [==============================] - 0s 4ms/step - loss: 0.2521 - accuracy: 0.9062 - val_loss: 0.3032 - val_accuracy: 0.9500\n",
            "Epoch 9/70\n",
            "40/40 [==============================] - 0s 3ms/step - loss: 0.4029 - accuracy: 0.8313 - val_loss: 0.4882 - val_accuracy: 0.7500\n",
            "Epoch 10/70\n",
            "40/40 [==============================] - 0s 3ms/step - loss: 0.2835 - accuracy: 0.8625 - val_loss: 0.4881 - val_accuracy: 0.7000\n",
            "Epoch 11/70\n",
            "40/40 [==============================] - 0s 3ms/step - loss: 0.2758 - accuracy: 0.8750 - val_loss: 0.4010 - val_accuracy: 0.8250\n",
            "Epoch 12/70\n",
            "40/40 [==============================] - 0s 3ms/step - loss: 0.2682 - accuracy: 0.8938 - val_loss: 0.3810 - val_accuracy: 0.8000\n",
            "Epoch 13/70\n",
            "40/40 [==============================] - 0s 3ms/step - loss: 0.2584 - accuracy: 0.8813 - val_loss: 0.5025 - val_accuracy: 0.7000\n",
            "Epoch 14/70\n",
            "40/40 [==============================] - 0s 3ms/step - loss: 0.2828 - accuracy: 0.8625 - val_loss: 0.4371 - val_accuracy: 0.7000\n",
            "Epoch 15/70\n",
            "40/40 [==============================] - 0s 3ms/step - loss: 0.2365 - accuracy: 0.8875 - val_loss: 0.4185 - val_accuracy: 0.7250\n",
            "Epoch 16/70\n",
            "40/40 [==============================] - 0s 3ms/step - loss: 0.2299 - accuracy: 0.9000 - val_loss: 0.3566 - val_accuracy: 0.7750\n",
            "Epoch 17/70\n",
            "40/40 [==============================] - 0s 3ms/step - loss: 0.2605 - accuracy: 0.8750 - val_loss: 0.3337 - val_accuracy: 0.8500\n",
            "Epoch 18/70\n",
            "40/40 [==============================] - 0s 3ms/step - loss: 0.2491 - accuracy: 0.9062 - val_loss: 0.4051 - val_accuracy: 0.8500\n",
            "Epoch 19/70\n",
            "40/40 [==============================] - 0s 4ms/step - loss: 0.3484 - accuracy: 0.8562 - val_loss: 0.7127 - val_accuracy: 0.6750\n",
            "Epoch 20/70\n",
            "40/40 [==============================] - 0s 3ms/step - loss: 0.3562 - accuracy: 0.8625 - val_loss: 0.5209 - val_accuracy: 0.7500\n",
            "Epoch 21/70\n",
            "40/40 [==============================] - 0s 3ms/step - loss: 0.2194 - accuracy: 0.9125 - val_loss: 0.5485 - val_accuracy: 0.6750\n",
            "Epoch 22/70\n",
            "40/40 [==============================] - 0s 3ms/step - loss: 0.2638 - accuracy: 0.9000 - val_loss: 0.3022 - val_accuracy: 0.9000\n",
            "Epoch 23/70\n",
            "40/40 [==============================] - 0s 3ms/step - loss: 0.2060 - accuracy: 0.9125 - val_loss: 0.4028 - val_accuracy: 0.7500\n",
            "Epoch 24/70\n",
            "40/40 [==============================] - 0s 3ms/step - loss: 0.2526 - accuracy: 0.9125 - val_loss: 0.3342 - val_accuracy: 0.8500\n",
            "Epoch 25/70\n",
            "40/40 [==============================] - 0s 3ms/step - loss: 0.2251 - accuracy: 0.9375 - val_loss: 0.4168 - val_accuracy: 0.7500\n",
            "Epoch 26/70\n",
            "40/40 [==============================] - 0s 3ms/step - loss: 0.2528 - accuracy: 0.8875 - val_loss: 0.3855 - val_accuracy: 0.8250\n",
            "Epoch 27/70\n",
            "40/40 [==============================] - 0s 3ms/step - loss: 0.3046 - accuracy: 0.8813 - val_loss: 0.3844 - val_accuracy: 0.7750\n",
            "Epoch 28/70\n",
            "40/40 [==============================] - 0s 3ms/step - loss: 0.2537 - accuracy: 0.8938 - val_loss: 0.4268 - val_accuracy: 0.7250\n",
            "Epoch 29/70\n",
            "40/40 [==============================] - 0s 3ms/step - loss: 0.2352 - accuracy: 0.9062 - val_loss: 0.4444 - val_accuracy: 0.6750\n",
            "Epoch 30/70\n",
            "40/40 [==============================] - 0s 3ms/step - loss: 0.2330 - accuracy: 0.8875 - val_loss: 0.3843 - val_accuracy: 0.8250\n",
            "Epoch 31/70\n",
            "40/40 [==============================] - 0s 3ms/step - loss: 0.2019 - accuracy: 0.9062 - val_loss: 0.3682 - val_accuracy: 0.8500\n",
            "Epoch 32/70\n",
            "40/40 [==============================] - 0s 3ms/step - loss: 0.3197 - accuracy: 0.8813 - val_loss: 0.3863 - val_accuracy: 0.8000\n",
            "Epoch 33/70\n",
            "40/40 [==============================] - 0s 3ms/step - loss: 0.2581 - accuracy: 0.9000 - val_loss: 0.3739 - val_accuracy: 0.8500\n",
            "Epoch 34/70\n",
            "40/40 [==============================] - 0s 3ms/step - loss: 0.2307 - accuracy: 0.9187 - val_loss: 0.3437 - val_accuracy: 0.8500\n",
            "Epoch 35/70\n",
            "40/40 [==============================] - 0s 3ms/step - loss: 0.2088 - accuracy: 0.9125 - val_loss: 0.5102 - val_accuracy: 0.7250\n",
            "Epoch 36/70\n",
            "40/40 [==============================] - 0s 4ms/step - loss: 0.3171 - accuracy: 0.8250 - val_loss: 0.3656 - val_accuracy: 0.8000\n",
            "Epoch 37/70\n",
            "40/40 [==============================] - 0s 3ms/step - loss: 0.2625 - accuracy: 0.8813 - val_loss: 0.3051 - val_accuracy: 0.8750\n",
            "Epoch 38/70\n",
            "40/40 [==============================] - 0s 3ms/step - loss: 0.2390 - accuracy: 0.9312 - val_loss: 0.3967 - val_accuracy: 0.8250\n",
            "Epoch 39/70\n",
            "40/40 [==============================] - 0s 4ms/step - loss: 0.1997 - accuracy: 0.9062 - val_loss: 0.3563 - val_accuracy: 0.7750\n",
            "Epoch 40/70\n",
            "40/40 [==============================] - 0s 3ms/step - loss: 0.3679 - accuracy: 0.8562 - val_loss: 1.1365 - val_accuracy: 0.6750\n",
            "Epoch 41/70\n",
            "40/40 [==============================] - 0s 4ms/step - loss: 0.5561 - accuracy: 0.7563 - val_loss: 0.4839 - val_accuracy: 0.7250\n",
            "Epoch 42/70\n",
            "40/40 [==============================] - 0s 3ms/step - loss: 0.3736 - accuracy: 0.8125 - val_loss: 0.5027 - val_accuracy: 0.7250\n",
            "Epoch 43/70\n",
            "40/40 [==============================] - 0s 3ms/step - loss: 0.2702 - accuracy: 0.9062 - val_loss: 0.4056 - val_accuracy: 0.7750\n",
            "Epoch 44/70\n",
            "40/40 [==============================] - 0s 3ms/step - loss: 0.2323 - accuracy: 0.9062 - val_loss: 0.3075 - val_accuracy: 0.9000\n",
            "Epoch 45/70\n",
            "40/40 [==============================] - 0s 3ms/step - loss: 0.2105 - accuracy: 0.9375 - val_loss: 0.3505 - val_accuracy: 0.8250\n",
            "Epoch 46/70\n",
            "40/40 [==============================] - 0s 3ms/step - loss: 0.1900 - accuracy: 0.9312 - val_loss: 0.3821 - val_accuracy: 0.7500\n",
            "Epoch 47/70\n",
            "40/40 [==============================] - 0s 3ms/step - loss: 0.2192 - accuracy: 0.9187 - val_loss: 0.2714 - val_accuracy: 0.9250\n",
            "Epoch 48/70\n",
            "40/40 [==============================] - 0s 3ms/step - loss: 0.2352 - accuracy: 0.9062 - val_loss: 0.3678 - val_accuracy: 0.7750\n",
            "Epoch 49/70\n",
            "40/40 [==============================] - 0s 3ms/step - loss: 0.2205 - accuracy: 0.9062 - val_loss: 0.5618 - val_accuracy: 0.6750\n",
            "Epoch 50/70\n",
            "40/40 [==============================] - 0s 4ms/step - loss: 0.2173 - accuracy: 0.9312 - val_loss: 0.3588 - val_accuracy: 0.8500\n",
            "Epoch 51/70\n",
            "40/40 [==============================] - 0s 3ms/step - loss: 0.2381 - accuracy: 0.9187 - val_loss: 0.4364 - val_accuracy: 0.7250\n",
            "Epoch 52/70\n",
            "40/40 [==============================] - 0s 3ms/step - loss: 0.1932 - accuracy: 0.9312 - val_loss: 0.3331 - val_accuracy: 0.9000\n",
            "Epoch 53/70\n",
            "40/40 [==============================] - 0s 3ms/step - loss: 0.1911 - accuracy: 0.9375 - val_loss: 0.5575 - val_accuracy: 0.6750\n",
            "Epoch 54/70\n",
            "40/40 [==============================] - 0s 3ms/step - loss: 0.2819 - accuracy: 0.8938 - val_loss: 0.5117 - val_accuracy: 0.6750\n",
            "Epoch 55/70\n",
            "40/40 [==============================] - 0s 3ms/step - loss: 0.3301 - accuracy: 0.8687 - val_loss: 0.3390 - val_accuracy: 0.8750\n",
            "Epoch 56/70\n",
            "40/40 [==============================] - 0s 4ms/step - loss: 0.2141 - accuracy: 0.9187 - val_loss: 0.4610 - val_accuracy: 0.7250\n",
            "Epoch 57/70\n",
            "40/40 [==============================] - 0s 3ms/step - loss: 0.2180 - accuracy: 0.9250 - val_loss: 0.5370 - val_accuracy: 0.8500\n",
            "Epoch 58/70\n",
            "40/40 [==============================] - 0s 3ms/step - loss: 0.1937 - accuracy: 0.9187 - val_loss: 0.2777 - val_accuracy: 0.9000\n",
            "Epoch 59/70\n",
            "40/40 [==============================] - 0s 4ms/step - loss: 0.1862 - accuracy: 0.9375 - val_loss: 0.3791 - val_accuracy: 0.8250\n",
            "Epoch 60/70\n",
            "40/40 [==============================] - 0s 3ms/step - loss: 0.1992 - accuracy: 0.9438 - val_loss: 0.4702 - val_accuracy: 0.7750\n",
            "Epoch 61/70\n",
            "40/40 [==============================] - 0s 3ms/step - loss: 0.1811 - accuracy: 0.9438 - val_loss: 0.3973 - val_accuracy: 0.7750\n",
            "Epoch 62/70\n",
            "40/40 [==============================] - 0s 4ms/step - loss: 0.2137 - accuracy: 0.9125 - val_loss: 0.3290 - val_accuracy: 0.8250\n",
            "Epoch 63/70\n",
            "40/40 [==============================] - 0s 5ms/step - loss: 0.1749 - accuracy: 0.9563 - val_loss: 0.4901 - val_accuracy: 0.7500\n",
            "Epoch 64/70\n",
            "40/40 [==============================] - 0s 5ms/step - loss: 0.2291 - accuracy: 0.8938 - val_loss: 0.3171 - val_accuracy: 0.8250\n",
            "Epoch 65/70\n",
            "40/40 [==============================] - 0s 5ms/step - loss: 0.1815 - accuracy: 0.9312 - val_loss: 0.3387 - val_accuracy: 0.8250\n",
            "Epoch 66/70\n",
            "40/40 [==============================] - 0s 5ms/step - loss: 0.1798 - accuracy: 0.9375 - val_loss: 0.3737 - val_accuracy: 0.7750\n",
            "Epoch 67/70\n",
            "40/40 [==============================] - 0s 5ms/step - loss: 0.1747 - accuracy: 0.9438 - val_loss: 0.3373 - val_accuracy: 0.8500\n",
            "Epoch 68/70\n",
            "40/40 [==============================] - 0s 5ms/step - loss: 0.1879 - accuracy: 0.9250 - val_loss: 0.3879 - val_accuracy: 0.8000\n",
            "Epoch 69/70\n",
            "40/40 [==============================] - 0s 6ms/step - loss: 0.2226 - accuracy: 0.9375 - val_loss: 0.4661 - val_accuracy: 0.7750\n",
            "Epoch 70/70\n",
            "40/40 [==============================] - 0s 5ms/step - loss: 0.1980 - accuracy: 0.9187 - val_loss: 0.2831 - val_accuracy: 0.9000\n"
          ]
        },
        {
          "output_type": "execute_result",
          "data": {
            "text/plain": [
              "<keras.callbacks.History at 0x7f005fcfd1b0>"
            ]
          },
          "metadata": {},
          "execution_count": 91
        }
      ]
    },
    {
      "cell_type": "markdown",
      "source": [
        "## Task 3: Test the model with random data"
      ],
      "metadata": {
        "id": "o6U8Vx8wxxFw"
      }
    },
    {
      "cell_type": "code",
      "source": [
        "# Testing the model\n",
        "ypred=model.predict([[89,1,2,1,3.2]])\n",
        "print(ypred)\n",
        "ypred=np.argmax(ypred)\n",
        "output=['drugA','drugB','drugC','drugX','drugY']\n",
        "output[ypred]"
      ],
      "metadata": {
        "colab": {
          "base_uri": "https://localhost:8080/",
          "height": 72
        },
        "id": "Kqe3qM6Txm6P",
        "outputId": "ba56a075-ced6-439c-d1d0-71127b60a386"
      },
      "execution_count": 105,
      "outputs": [
        {
          "output_type": "stream",
          "name": "stdout",
          "text": [
            "1/1 [==============================] - 0s 45ms/step\n",
            "[[1.2548826e-02 2.0493602e-02 1.4604126e-06 9.6543324e-01 1.5228782e-03]]\n"
          ]
        },
        {
          "output_type": "execute_result",
          "data": {
            "text/plain": [
              "'drugX'"
            ],
            "application/vnd.google.colaboratory.intrinsic+json": {
              "type": "string"
            }
          },
          "metadata": {},
          "execution_count": 105
        }
      ]
    }
  ]
}